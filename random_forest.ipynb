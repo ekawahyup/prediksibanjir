{
 "cells": [
  {
   "cell_type": "code",
   "execution_count": 1,
   "metadata": {},
   "outputs": [
    {
     "name": "stdout",
     "output_type": "stream",
     "text": [
      "        kode_pintu  tinggi_air  kode_kota\n",
      "0               16         680          1\n",
      "1                6           0          2\n",
      "2                9        9580          0\n",
      "3               10         890          3\n",
      "4               11        7070          0\n",
      "...            ...         ...        ...\n",
      "323185          17        1800          4\n",
      "323186          18        1580          3\n",
      "323187          19        1100          3\n",
      "323188          21        1530          2\n",
      "323189           1        1680          1\n",
      "\n",
      "[323190 rows x 3 columns]\n"
     ]
    },
    {
     "data": {
      "text/html": [
       "<div>\n",
       "<style scoped>\n",
       "    .dataframe tbody tr th:only-of-type {\n",
       "        vertical-align: middle;\n",
       "    }\n",
       "\n",
       "    .dataframe tbody tr th {\n",
       "        vertical-align: top;\n",
       "    }\n",
       "\n",
       "    .dataframe thead th {\n",
       "        text-align: right;\n",
       "    }\n",
       "</style>\n",
       "<table border=\"1\" class=\"dataframe\">\n",
       "  <thead>\n",
       "    <tr style=\"text-align: right;\">\n",
       "      <th></th>\n",
       "      <th>kode_pintu</th>\n",
       "      <th>tinggi_air</th>\n",
       "      <th>kode_kota</th>\n",
       "    </tr>\n",
       "  </thead>\n",
       "  <tbody>\n",
       "    <tr>\n",
       "      <th>218743</th>\n",
       "      <td>24</td>\n",
       "      <td>-1830</td>\n",
       "      <td>2</td>\n",
       "    </tr>\n",
       "    <tr>\n",
       "      <th>99200</th>\n",
       "      <td>2</td>\n",
       "      <td>3260</td>\n",
       "      <td>1</td>\n",
       "    </tr>\n",
       "    <tr>\n",
       "      <th>189041</th>\n",
       "      <td>23</td>\n",
       "      <td>10</td>\n",
       "      <td>0</td>\n",
       "    </tr>\n",
       "    <tr>\n",
       "      <th>17032</th>\n",
       "      <td>1</td>\n",
       "      <td>1480</td>\n",
       "      <td>1</td>\n",
       "    </tr>\n",
       "    <tr>\n",
       "      <th>314952</th>\n",
       "      <td>3</td>\n",
       "      <td>350</td>\n",
       "      <td>1</td>\n",
       "    </tr>\n",
       "  </tbody>\n",
       "</table>\n",
       "</div>"
      ],
      "text/plain": [
       "        kode_pintu  tinggi_air  kode_kota\n",
       "218743          24       -1830          2\n",
       "99200            2        3260          1\n",
       "189041          23          10          0\n",
       "17032            1        1480          1\n",
       "314952           3         350          1"
      ]
     },
     "execution_count": 1,
     "metadata": {},
     "output_type": "execute_result"
    }
   ],
   "source": [
    "import pandas as pd\n",
    "df = pd.read_csv(\"./banjir.txt\", sep=\"\\t\")\n",
    "df = df.dropna()\n",
    "X = df.drop([\"nama_pintu_air\",\"lokasi\",\"latitude\",\"longitude\",\"tanggal\",\"status_siaga\",\"kota\",\"banjir\"], axis=1)\n",
    "\n",
    "# column : nama_pintu_air, kota, tinggi_air\n",
    "# convert categorical to numerical\n",
    "\n",
    "print (X);\n",
    "\n",
    "y = df[\"banjir\"]\n",
    "X.sample(5, random_state=44)"
   ]
  },
  {
   "cell_type": "code",
   "execution_count": 2,
   "metadata": {},
   "outputs": [
    {
     "name": "stdout",
     "output_type": "stream",
     "text": [
      "0.9112347321320595\n"
     ]
    }
   ],
   "source": [
    "from sklearn.model_selection import train_test_split\n",
    "from sklearn.ensemble import RandomForestClassifier\n",
    "from sklearn.metrics import accuracy_score\n",
    "\n",
    "x_train = X\n",
    "y_train = y\n",
    "\n",
    "rf_model = RandomForestClassifier(random_state=1)\n",
    "rf_model.fit(x_train, y_train)\n",
    "\n",
    "banjir_test  = pd.read_csv(\"./banjir_test.txt\", sep=\"\\t\")\n",
    "banjir_test = banjir_test.dropna()\n",
    "X_test = banjir_test.drop([\"banjir\"], axis=1)\n",
    "y_test = banjir_test[\"banjir\"]\n",
    "\n",
    "predictions = rf_model.predict(X_test)\n",
    "\n",
    "# save prediction to file\n",
    "banjir_test[\"predictions\"] = predictions\n",
    "banjir_test.to_csv(\"./banjir_prediction_rf.txt\", sep=\"\\t\", index=False)\n",
    "\n",
    "# check the prediction accuracy\n",
    "ac = accuracy_score(y_test, predictions)\n",
    "print(ac)\n"
   ]
  }
 ],
 "metadata": {
  "kernelspec": {
   "display_name": "business-intelligence",
   "language": "python",
   "name": "python3"
  },
  "language_info": {
   "codemirror_mode": {
    "name": "ipython",
    "version": 3
   },
   "file_extension": ".py",
   "mimetype": "text/x-python",
   "name": "python",
   "nbconvert_exporter": "python",
   "pygments_lexer": "ipython3",
   "version": "3.10.11"
  },
  "orig_nbformat": 4
 },
 "nbformat": 4,
 "nbformat_minor": 2
}
